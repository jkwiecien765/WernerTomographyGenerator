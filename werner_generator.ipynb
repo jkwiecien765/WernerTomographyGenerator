{
 "cells": [
  {
   "cell_type": "code",
   "execution_count": 1,
   "metadata": {},
   "outputs": [
    {
     "name": "stdout",
     "output_type": "stream",
     "text": [
      "setting density_matrix data...\n",
      "setting density_matrix data...\n",
      "setting density_matrix data...\n",
      "setting density_matrix data...\n"
     ]
    },
    {
     "name": "stderr",
     "output_type": "stream",
     "text": [
      "c:\\Users\\Jan\\Desktop\\Uni_Wrrr\\Kwantowa_informacja\\Magisterka\\werner_generator\\myPackage\\my_module.py:663: PerformanceWarning: dropping on a non-lexsorted multi-index without a level parameter may impact performance.\n",
      "  df = df.reset_index().drop('index', axis=1)\n"
     ]
    },
    {
     "name": "stdout",
     "output_type": "stream",
     "text": [
      "setting density_matrix data...\n",
      "setting density_matrix data...\n",
      "setting density_matrix data...\n",
      "setting density_matrix data...\n"
     ]
    },
    {
     "name": "stderr",
     "output_type": "stream",
     "text": [
      "c:\\Users\\Jan\\Desktop\\Uni_Wrrr\\Kwantowa_informacja\\Magisterka\\werner_generator\\myPackage\\my_module.py:663: PerformanceWarning: dropping on a non-lexsorted multi-index without a level parameter may impact performance.\n",
      "  df = df.reset_index().drop('index', axis=1)\n"
     ]
    }
   ],
   "source": [
    "from myPackage.my_module import *\n",
    "\n",
    "data_save_iterator(2,2, Prefix='A')"
   ]
  },
  {
   "cell_type": "code",
   "execution_count": null,
   "metadata": {},
   "outputs": [],
   "source": []
  }
 ],
 "metadata": {
  "kernelspec": {
   "display_name": "base",
   "language": "python",
   "name": "python3"
  },
  "language_info": {
   "codemirror_mode": {
    "name": "ipython",
    "version": 3
   },
   "file_extension": ".py",
   "mimetype": "text/x-python",
   "name": "python",
   "nbconvert_exporter": "python",
   "pygments_lexer": "ipython3",
   "version": "3.11.5"
  }
 },
 "nbformat": 4,
 "nbformat_minor": 2
}
